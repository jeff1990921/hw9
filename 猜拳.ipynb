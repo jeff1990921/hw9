{
  "nbformat": 4,
  "nbformat_minor": 0,
  "metadata": {
    "colab": {
      "name": "猜拳.ipynb",
      "provenance": [],
      "collapsed_sections": []
    },
    "kernelspec": {
      "name": "python3",
      "display_name": "Python 3"
    }
  },
  "cells": [
    {
      "cell_type": "markdown",
      "metadata": {
        "id": "bgqzQGc0kYhy",
        "colab_type": "text"
      },
      "source": [
        "猜拳5次並回報分數"
      ]
    },
    {
      "cell_type": "code",
      "metadata": {
        "id": "Qejx-yDMj9oB",
        "colab_type": "code",
        "outputId": "8aea0d80-0063-4bd7-d91e-e67df65c7853",
        "colab": {
          "base_uri": "https://localhost:8080/",
          "height": 289
        }
      },
      "source": [
        "import random\n",
        "score = 0\n",
        "turn = 0\n",
        "kind = ['paper', 'scissor', 'stone']\n",
        "while turn < 5:\n",
        "  computer = kind[random.randint(0,2)]\n",
        "  you = input('please choose:')\n",
        "  if you not in kind:\n",
        "    print('please try again')\n",
        "    continue\n",
        "  print('the computer choose:',computer)\n",
        "  if you == computer:\n",
        "    print('tie!')\n",
        "    continue\n",
        "  if you == 'paper' and computer == 'stone':\n",
        "    print('you win!')\n",
        "    score += 1\n",
        "  elif you == 'stone' and computer == 'scissor':\n",
        "    print('you win!')\n",
        "    score += 1\n",
        "  elif you == 'scissor' and computer == 'paper':\n",
        "    print('you win!')\n",
        "    score += 1\n",
        "  else:\n",
        "    print('you lose!')\n",
        "  turn += 1\n",
        "print(score)"
      ],
      "execution_count": 0,
      "outputs": [
        {
          "output_type": "stream",
          "text": [
            "please choose:paper\n",
            "the computer choose: scissor\n",
            "you lose!\n",
            "please choose:stone\n",
            "the computer choose: scissor\n",
            "you win!\n",
            "please choose:paper\n",
            "the computer choose: stone\n",
            "you win!\n",
            "please choose:scissor\n",
            "the computer choose: paper\n",
            "you win!\n",
            "please choose:paper\n",
            "the computer choose: scissor\n",
            "you lose!\n",
            "3\n"
          ],
          "name": "stdout"
        }
      ]
    }
  ]
}